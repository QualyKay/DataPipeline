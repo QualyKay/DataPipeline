{
 "cells": [
  {
   "cell_type": "code",
   "execution_count": 0,
   "metadata": {
    "application/vnd.databricks.v1+cell": {
     "cellMetadata": {
      "byteLimit": 2048000,
      "rowLimit": 10000
     },
     "collapsed": true,
     "inputWidgets": {},
     "nuid": "2115968a-48cc-464d-a6e8-9ebae1c5fc39",
     "showTitle": false,
     "title": ""
    }
   },
   "outputs": [
    {
     "output_type": "stream",
     "name": "stdout",
     "output_type": "stream",
     "text": [
      "\u001B[43mNote: you may need to restart the kernel using dbutils.library.restartPython() to use updated packages.\u001B[0m\nRequirement already satisfied: pyspark in /local_disk0/.ephemeral_nfs/envs/pythonEnv-2f41466b-2d0c-44ae-a56c-822ee2a1a6b2/lib/python3.10/site-packages (3.5.0)\nRequirement already satisfied: py4j==0.10.9.7 in /local_disk0/.ephemeral_nfs/envs/pythonEnv-2f41466b-2d0c-44ae-a56c-822ee2a1a6b2/lib/python3.10/site-packages (from pyspark) (0.10.9.7)\n\u001B[43mNote: you may need to restart the kernel using dbutils.library.restartPython() to use updated packages.\u001B[0m\n"
     ]
    }
   ],
   "source": [
    "pip install pyspark"
   ]
  },
  {
   "cell_type": "code",
   "execution_count": 0,
   "metadata": {
    "application/vnd.databricks.v1+cell": {
     "cellMetadata": {
      "byteLimit": 2048000,
      "rowLimit": 10000
     },
     "inputWidgets": {},
     "nuid": "0fe6d79b-530e-48f6-814e-15c9e953ad36",
     "showTitle": false,
     "title": ""
    }
   },
   "outputs": [],
   "source": [
    "spark.conf.set(\n",
    "    \"fs.azure.account.key.datacohortworkspacelabs.dfs.core.windows.net\",\n",
    "    \"NUwhjFcHG95EU1Rnu7+Woq3JQP28bXy5kDQhA9yFV68XBz1umr7uqeQgMhrwxHfTwNWxAx/n1K6j+AStGTUMkQ==\")"
   ]
  },
  {
   "cell_type": "code",
   "execution_count": 0,
   "metadata": {
    "application/vnd.databricks.v1+cell": {
     "cellMetadata": {
      "byteLimit": 2048000,
      "rowLimit": 10000
     },
     "inputWidgets": {},
     "nuid": "207e3dda-1e8f-4826-a08d-b1eafe3e94f7",
     "showTitle": false,
     "title": ""
    }
   },
   "outputs": [],
   "source": [
    "from pyspark.sql.functions import col\n",
    "\n",
    "silver_path = \"abfss://silver-kay@datacohortworkspacelabs.dfs.core.windows.net/\"\n",
    "gold_path = \"abfss://gold-kay@datacohortworkspacelabs.dfs.core.windows.net/\"\n",
    "\n",
    "silver_data = spark.read.format(\"delta\").load(silver_path)\n",
    "\n",
    "PULocID = silver_data.select(\"PULocationID\").distinct()\n",
    "DOLocID = silver_data.select(\"DOLocationID\").distinct()\n",
    "\n",
    "LocationID = PULocID.union(DOLocID).distinct().withColumnRenamed(\"PULocationID\", \"LocationID\")\n",
    "\n",
    "trips_fact = silver_data.select(\"tripID\", \"VendorID\", \"PULocationID\", \"DOLocationID\", \"coverageID\", \"trip_distance\", \"fareID\", \"total_amount\", \"fare_amount\", \"tip_amount\").limit(1000000)\n",
    "vendors_dim = silver_data.select(\"VendorID\").distinct().limit(1000000)\n",
    "locations_dim = LocationID.limit(1000000)\n",
    "coverage_dim = silver_data.select(\"coverageID\", \"tpep_pickup_datetime\", \"tpep_dropoff_datetime\").distinct().limit(1000000)\n",
    "fare_dim = silver_data.select(\"fareID\", \"payment_type\").distinct().limit(1000000)\n",
    "\n",
    "trips_fact.write.format(\"delta\").mode(\"overwrite\").option(\"overwriteSchema\", \"true\").save(gold_path + \"/trips_fact\")\n",
    "vendors_dim.write.format(\"delta\").mode(\"overwrite\").save(gold_path + \"/vendors_dim\")\n",
    "locations_dim.write.format(\"delta\").mode(\"overwrite\").option(\"overwriteSchema\", \"true\").save(gold_path + \"/locations_dim\")\n",
    "coverage_dim.write.format(\"delta\").mode(\"overwrite\").save(gold_path + \"/coverage_dim\")\n",
    "fare_dim.write.format(\"delta\").mode(\"overwrite\").save(gold_path + \"/fare_dim\")\n"
   ]
  },
  {
   "cell_type": "code",
   "execution_count": 0,
   "metadata": {
    "application/vnd.databricks.v1+cell": {
     "cellMetadata": {
      "byteLimit": 2048000,
      "rowLimit": 10000
     },
     "inputWidgets": {},
     "nuid": "e48acf84-c47a-4928-8203-76a506cd310a",
     "showTitle": false,
     "title": ""
    }
   },
   "outputs": [],
   "source": [
    "gold_path = \"abfss://gold-kay@datacohortworkspacelabs.dfs.core.windows.net/\"\n",
    "\n",
    "table_names = [\n",
    "    \"coverage_dim\",\n",
    "    \"vendors_dim\", \n",
    "    \"fare_dim\", \n",
    "    \"locations_dim\", \n",
    "    \"trips_fact\"\n",
    "]\n",
    "\n",
    "for table_name in table_names:\n",
    "    data_path = f\"{gold_path}{table_name}/\"\n",
    "    table_data = spark.read.format(\"delta\").option(\"header\", \"true\").load(data_path)\n",
    "   \n",
    "\n",
    "    table_data.write.mode(\"overwrite\").option(\"overwriteSchema\", \"true\").saveAsTable(f\"gold_pbix_kay.{table_name}\")"
   ]
  },
  {
   "cell_type": "code",
   "execution_count": 0,
   "metadata": {
    "application/vnd.databricks.v1+cell": {
     "cellMetadata": {
      "byteLimit": 2048000,
      "rowLimit": 10000
     },
     "inputWidgets": {},
     "nuid": "448e1e93-783a-4910-9294-a5595bde4b3e",
     "showTitle": false,
     "title": ""
    }
   },
   "outputs": [
    {
     "output_type": "stream",
     "name": "stdout",
     "output_type": "stream",
     "text": [
      "The DataFrame has 1000000 rows.\n"
     ]
    }
   ],
   "source": [
    "num_rows = trips_fact.count()\n",
    "\n",
    "print(f\"The DataFrame has {num_rows} rows.\")\n"
   ]
  }
 ],
 "metadata": {
  "application/vnd.databricks.v1+notebook": {
   "dashboards": [],
   "language": "python",
   "notebookMetadata": {
    "mostRecentlyExecutedCommandWithImplicitDF": {
     "commandId": 83751696101399,
     "dataframes": [
      "_sqldf"
     ]
    },
    "pythonIndentUnit": 4
   },
   "notebookName": "DB_3Gold_Kay",
   "widgets": {}
  }
 },
 "nbformat": 4,
 "nbformat_minor": 0
}
