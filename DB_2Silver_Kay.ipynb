{
 "cells": [
  {
   "cell_type": "markdown",
   "metadata": {
    "application/vnd.databricks.v1+cell": {
     "cellMetadata": {
      "byteLimit": 2048000,
      "rowLimit": 10000
     },
     "inputWidgets": {},
     "nuid": "a4ece859-119b-491e-8f2f-63835d9e3cfc",
     "showTitle": false,
     "title": ""
    }
   },
   "source": [
    "spark.catalog.clearCache()"
   ]
  },
  {
   "cell_type": "code",
   "execution_count": 0,
   "metadata": {
    "application/vnd.databricks.v1+cell": {
     "cellMetadata": {
      "byteLimit": 2048000,
      "rowLimit": 10000
     },
     "inputWidgets": {},
     "nuid": "25685a27-2d99-4195-9a26-a14349ac0090",
     "showTitle": false,
     "title": ""
    }
   },
   "outputs": [],
   "source": [
    "import pyspark"
   ]
  },
  {
   "cell_type": "code",
   "execution_count": 0,
   "metadata": {
    "application/vnd.databricks.v1+cell": {
     "cellMetadata": {
      "byteLimit": 2048000,
      "rowLimit": 10000
     },
     "inputWidgets": {},
     "nuid": "dc6fe192-c9af-4ae0-b6c9-dfb16ce411fd",
     "showTitle": false,
     "title": ""
    }
   },
   "outputs": [],
   "source": [
    "spark.conf.set(\n",
    "    \"fs.azure.account.key.datacohortworkspacelabs.dfs.core.windows.net\",\n",
    "    \"NUwhjFcHG95EU1Rnu7+Woq3JQP28bXy5kDQhA9yFV68XBz1umr7uqeQgMhrwxHfTwNWxAx/n1K6j+AStGTUMkQ==\")"
   ]
  },
  {
   "cell_type": "code",
   "execution_count": 0,
   "metadata": {
    "application/vnd.databricks.v1+cell": {
     "cellMetadata": {
      "byteLimit": 2048000,
      "rowLimit": 10000
     },
     "inputWidgets": {},
     "nuid": "5f5b68d6-1ff6-4dd8-8cab-dfd5d47d9e91",
     "showTitle": false,
     "title": ""
    }
   },
   "outputs": [
    {
     "output_type": "display_data",
     "data": {
      "text/html": [
       "<style scoped>\n",
       "  .ansiout {\n",
       "    display: block;\n",
       "    unicode-bidi: embed;\n",
       "    white-space: pre-wrap;\n",
       "    word-wrap: break-word;\n",
       "    word-break: break-all;\n",
       "    font-family: \"Menlo\", \"Monaco\", \"Consolas\", \"Ubuntu Mono\", \"Source Code Pro\", monospace;\n",
       "    font-size: 13px;\n",
       "    color: #555;\n",
       "    margin-left: 4px;\n",
       "    line-height: 19px;\n",
       "  }\n",
       "</style>"
      ]
     },
     "metadata": {
      "application/vnd.databricks.v1+output": {
       "arguments": {},
       "data": "",
       "errorSummary": "The spark context has stopped and the driver is restarting. Your notebook will be automatically reattached.",
       "errorTraceType": "html",
       "metadata": {},
       "type": "ipynbError"
      }
     },
     "output_type": "display_data"
    }
   ],
   "source": [
    "from pyspark.sql import SparkSession\n",
    "from pyspark.sql.functions import col\n",
    "\n",
    "spark = SparkSession.builder.appName(\"ApplySchemaAndConstraints\").getOrCreate()\n",
    "\n",
    "bronze_path = \"abfss://bronze-kay@datacohortworkspacelabs.dfs.core.windows.net/\"\n",
    "silver_path = \"abfss://silver-kay@datacohortworkspacelabs.dfs.core.windows.net/\"\n",
    "\n",
    "bronze_data = spark.read.format(\"delta\").load(bronze_path)\n",
    "\n",
    "schema = [\n",
    "    \"tripID\", \"VendorID\", \"PULocationID\", \"DOLocationID\", \n",
    "    \"tpep_pickup_datetime\", \"tpep_dropoff_datetime\", \n",
    "    \"trip_distance\", \"total_amount\",\"fare_amount\", \"tip_amount\", \"payment_type\"\n",
    "]\n",
    "\n",
    "silver_data = bronze_data.select(*schema)\n",
    "\n",
    "silver_data = silver_data.filter((col(\"total_amount\").isNotNull()) & (col(\"total_amount\") > 0) & (col(\"trip_distance\") > 0))\n",
    "\n",
    "silver_data.write.partitionBy(\"PULocationID\").mode(\"overwrite\").format(\"delta\").save(silver_path)\n",
    "\n",
    "spark.stop()"
   ]
  }
 ],
 "metadata": {
  "application/vnd.databricks.v1+notebook": {
   "dashboards": [],
   "language": "python",
   "notebookMetadata": {
    "pythonIndentUnit": 4
   },
   "notebookName": "DB_2Silver_Kay",
   "widgets": {}
  }
 },
 "nbformat": 4,
 "nbformat_minor": 0
}
